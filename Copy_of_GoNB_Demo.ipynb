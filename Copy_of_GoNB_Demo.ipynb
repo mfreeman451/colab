{
  "nbformat": 4,
  "nbformat_minor": 0,
  "metadata": {
    "colab": {
      "provenance": [],
      "include_colab_link": true
    },
    "kernelspec": {
      "name": "python3",
      "display_name": "Python 3"
    },
    "language_info": {
      "name": "python"
    }
  },
  "cells": [
    {
      "cell_type": "markdown",
      "metadata": {
        "id": "view-in-github",
        "colab_type": "text"
      },
      "source": [
        "<a href=\"https://colab.research.google.com/github/mfreeman451/colab/blob/main/Copy_of_GoNB_Demo.ipynb\" target=\"_parent\"><img src=\"https://colab.research.google.com/assets/colab-badge.svg\" alt=\"Open In Colab\"/></a>"
      ]
    },
    {
      "cell_type": "markdown",
      "source": [
        "# GoNB - A Go Notebook Kernel for Jupyter\n",
        "\n",
        "See the [tutorial in github](https://github.com/janpfeifer/gonb/blob/e15ac2e8e3fe/examples/tutorial.ipynb). The repository is in [github.com/janpfeifer/gonb](https://github.com/janpfeifer/gonb).\n",
        "\n",
        "\n",
        "\n",
        "## Installation in Google's Colab\n",
        "\n",
        "Run the following cell once only. It will install Go, GoNB and restart the kernel so it uses Go instead of the provided Python.\n",
        "\n",
        "It takes a couple of minutes ... but only needs to be done once.\n",
        "\n",
        "When creating other GoNB notebooks with Google's Colab, you will have to copy the cell below (or do something similar).\n",
        "\n",
        "**Disclaimer**: this is highly not documented or official, but seems to be supported by Colab (it works). Likely this way of replacing the kernel will break without notice. Please reach out to project in [github.com/janpfeifer/gonb](https://github.com/janpfeifer/gonb) if there are any issues.\n"
      ],
      "metadata": {
        "id": "FWzjioUI63tT"
      }
    },
    {
      "cell_type": "code",
      "execution_count": null,
      "metadata": {
        "id": "3PaXSu67xkrg",
        "cellView": "form",
        "colab": {
          "base_uri": "https://localhost:8080/"
        },
        "outputId": "8330b308-fc08-46f9-8b78-e52d8099a5ff"
      },
      "outputs": [
        {
          "output_type": "stream",
          "name": "stdout",
          "text": [
            "env: GOROOT=/content/go\n",
            "go version go1.20 linux/amd64\n",
            "\u001b[7;39;32m[6544c217]\u001b[0m 2023/02/12 03:32:30 Go (gonb) kernel configuration installed in \"/root/.local/share/jupyter/kernels/gonb/kernel.json\".\n"
          ]
        }
      ],
      "source": [
        "#@title Install Go, `goimports` and Gote code.\n",
        "\n",
        "# Install Go and goimports.\n",
        "!mkdir -p cache\n",
        "!wget -q -O cache/go.tar.gz 'https://go.dev/dl/go1.20.linux-amd64.tar.gz'\n",
        "!tar xzf cache/go.tar.gz\n",
        "%env GOROOT=/content/go\n",
        "!ln -sf \"/content/go/bin/go\" /usr/bin/go\n",
        "!go version\n",
        "!go install golang.org/x/tools/cmd/goimports@latest 2> /dev/null\n",
        "!ln -sf /root/go/bin/goimports /usr/bin/goimports\n",
        "\n",
        "# Install GoNB.\n",
        "!git clone -q https://github.com/janpfeifer/gonb.git\n",
        "!cd gonb ; go build --buildvcs=false -o gonb . >& /dev/null || echo \"Failed to build gonb\" \n",
        "!cd gonb ; ./gonb --install\n",
        "\n",
        "# Python code to replace ipython kernel with GoNB.\n",
        "import os\n",
        "import ipykernel_launcher\n",
        "\n",
        "call_kernel_code='''\n",
        "import os\n",
        "import sys\n",
        "\n",
        "connection_file = sys.argv[2]\n",
        "os\n",
        "try:\n",
        "  os.execl(\"/content/gonb/gonb\", \"/content/gonb/gonb\", \"--kernel\", connection_file)\n",
        "finally:\n",
        "  from ipykernel import kernelapp as app\n",
        "  app.launch_new_instance()\n",
        "'''\n",
        "new_file = '/tmp/gonb_ipykernel_launcher.py'\n",
        "# old_file = '/usr/local/lib/python3.8/dist-packages/ipykernel_launcher.py'\n",
        "old_file = ipykernel_launcher.__file__\n",
        "with open(new_file, 'w') as f:\n",
        "  f.write(call_kernel_code)\n",
        "os.replace(new_file, old_file)\n",
        "\n",
        "# Finally kill current kernel to force restart.\n",
        "import os; import sys; sys.stdout.flush(); os.kill(os.getpid(), 9)\n"
      ]
    },
    {
      "cell_type": "markdown",
      "source": [
        "The cell above will crash the current kernel after replacing it with GoNB. It's normal. Run it once only, it takes a couple of minutes. After that you will be running a GoNB kernel."
      ],
      "metadata": {
        "id": "lbPHZ_rjOavo"
      }
    },
    {
      "cell_type": "markdown",
      "source": [
        "## VulnCheck Demo - Exploits API\n",
        "\n",
        "We're going to get a list of the most recent exploits from the API\n",
        "and create some visualizations around the data.\n",
        "\n",
        "\n",
        "First ..."
      ],
      "metadata": {
        "id": "izIU9VTs-Fc4"
      }
    },
    {
      "cell_type": "code",
      "source": [
        "!*go get -u github.com/erkkah/margaid@d60b2efd2f5acc5d8fbbe13eaf85f1532e11a2fb"
      ],
      "metadata": {
        "colab": {
          "base_uri": "https://localhost:8080/"
        },
        "id": "X1K-fZhMAu1m",
        "outputId": "af289d82-d066-49c8-af1e-045c2d558435"
      },
      "execution_count": null,
      "outputs": [
        {
          "output_type": "stream",
          "name": "stderr",
          "text": [
            "go: added github.com/erkkah/margaid v0.1.1-0.20230128143048-d60b2efd2f5a\n"
          ]
        }
      ]
    },
    {
      "cell_type": "code",
      "source": [
        "%env VC_API_KEY 35829961415c5256e02d5a65e52e982746400286615b384317ffaf1f34036258\n",
        "\n",
        "import (\n",
        "\t\"encoding/json\"\n",
        "\t\"fmt\"\n",
        "\t\"github.com/go-gota/gota/dataframe\"\n",
        "\t\"github.com/joho/godotenv\"\n",
        "\t\"io\"\n",
        "\t\"log\"\n",
        "\t\"net/http\"\n",
        "\t\"os\"\n",
        "\t\"strings\"\n",
        ")\n",
        "\n",
        "func main() {\n",
        "\t// .env init\n",
        "\terr := godotenv.Load()\n",
        "\tif err != nil {\n",
        "\t\tlog.Println(\"Error loading .env file\")\n",
        "\t}\n",
        "\n",
        "\t_, err = GetVCExploits()\n",
        "\tif err != nil {\n",
        "\t\tlog.Fatal(err)\n",
        "\t}\n",
        "\n",
        "}\n",
        "\n",
        "func GetVCAPIURL() string {\n",
        "\treturn \"https://api.vulncheck.com\"\n",
        "}\n",
        "\n",
        "func GetVCAPIKey() (string, error) {\n",
        "\tvcAPIKey := os.Getenv(\"VC_API_KEY\")\n",
        "\tif vcAPIKey == \"\" {\n",
        "\t\treturn \"\", fmt.Errorf(\"VC_API_KEY not set\")\n",
        "\t}\n",
        "\treturn vcAPIKey, nil\n",
        "}\n",
        "\n",
        "type VCExploitsResults struct {\n",
        "\tCve                 string        `json:\"cve\"`\n",
        "\tDateAdded           string        `json:\"date_added\"`\n",
        "\tExploitAvailability string        `json:\"exploit_availability\"`\n",
        "\tExploitMaturity     string        `json:\"exploit_maturity\"`\n",
        "\tName                string        `json:\"name\"`\n",
        "\tRefsource           string        `json:\"refsource\"`\n",
        "\tTags                []interface{} `json:\"tags\"`\n",
        "\tURL                 string        `json:\"url\"`\n",
        "\tExploitType         string        `json:\"exploit_type,omitempty\"`\n",
        "}\n",
        "\n",
        "type VCExploits struct {\n",
        "\tIndex        string              `json:\"index\"`\n",
        "\tSearchType   string              `json:\"search_type\"`\n",
        "\tRequestTime  int                 `json:\"request_time\"`\n",
        "\tResultsCount int                 `json:\"results_count\"`\n",
        "\tResults      []VCExploitsResults `json:\"results\"`\n",
        "}\n",
        "\n",
        "func GetVCExploits() (dataframe.DataFrame, error) {\n",
        "\tvar vcExploits VCExploits\n",
        "\tbody, err := GetVCAPI(\"v2/recent/exploits\")\n",
        "\tif err != nil {\n",
        "\t\treturn dataframe.DataFrame{}, err\n",
        "\t}\n",
        "\terr = json.Unmarshal(body, &vcExploits)\n",
        "\tif err != nil {\n",
        "\t\treturn dataframe.DataFrame{}, err\n",
        "\t}\n",
        "\n",
        "\tvar results []VCExploitsResults\n",
        "\tfor _, result := range vcExploits.Results {\n",
        "\t\tresults = append(results, result)\n",
        "\t}\n",
        "\t// marshal results to json\n",
        "\tjsonResults, err := json.Marshal(results)\n",
        "\n",
        "\tjsonDf := dataframe.ReadJSON(strings.NewReader(string(jsonResults)))\n",
        "\tfmt.Println(jsonDf)\n",
        "\n",
        "\treturn jsonDf, nil\n",
        "}\n",
        "\n",
        "func GetVCAPI(request string) ([]byte, error) {\n",
        "\turl := fmt.Sprintf(\"%s/%s\", GetVCAPIURL(), request)\n",
        "\n",
        "\tapiKey, err := GetVCAPIKey()\n",
        "\tif err != nil {\n",
        "\t\tlog.Fatalln(err)\n",
        "\t}\n",
        "\t// add Bearer token\n",
        "\tapiKey, kErr := GetVCAPIKey()\n",
        "\tif kErr != nil {\n",
        "\t\treturn nil, kErr\n",
        "\t}\n",
        "\treq, err := http.NewRequest(\"GET\", url, nil)\n",
        "\tif err != nil {\n",
        "\t\treturn nil, err\n",
        "\t}\n",
        "\tvar bearer = \"Bearer \" + apiKey\n",
        "\treq.Header.Add(\"Authorization\", bearer)\n",
        "\n",
        "\treq.Header.Add(\"accept\", \"application/json\")\n",
        "\tres, resErr := http.DefaultClient.Do(req)\n",
        "\tif resErr != nil {\n",
        "\t\treturn nil, resErr\n",
        "\t}\n",
        "\tdefer func(Body io.ReadCloser) {\n",
        "\t\terr := Body.Close()\n",
        "\t\tif err != nil {\n",
        "\t\t\tlog.Fatalln(err)\n",
        "\t\t}\n",
        "\t}(res.Body)\n",
        "\tbody, bodyErr := io.ReadAll(res.Body)\n",
        "\tif bodyErr != nil {\n",
        "\t\treturn nil, bodyErr\n",
        "\t}\n",
        "\n",
        "\treturn body, nil\n",
        "}\n"
      ],
      "metadata": {
        "colab": {
          "base_uri": "https://localhost:8080/"
        },
        "id": "Gc9kRoENA8yv",
        "outputId": "94134b1b-e2eb-41e4-af69-61fad79401b1"
      },
      "execution_count": null,
      "outputs": [
        {
          "output_type": "stream",
          "name": "stderr",
          "text": [
            "2023/02/12 03:35:39 Error loading .env file\n"
          ]
        },
        {
          "output_type": "stream",
          "name": "stdout",
          "text": [
            "[10x9] DataFrame\n",
            "\n",
            "    cve            date_added exploit_availability   exploit_maturity ...\n",
            " 0: CVE-2021-21974 2023-02-10 commercially-available weaponized       ...\n",
            " 1: CVE-2023-0669  2023-02-10 privately-available    weaponized       ...\n",
            " 2: CVE-2015-2291  2023-02-10 privately-available    weaponized       ...\n",
            " 3: CVE-2021-43798 2023-02-10 commercially-available poc              ...\n",
            " 4: CVE-2022-24990 2023-02-10 privately-available    weaponized       ...\n",
            " 5: CVE-2022-47966 2023-02-09 publicly-available     poc              ...\n",
            " 6: CVE-2023-0669  2023-02-09 publicly-available     poc              ...\n",
            " 7: CVE-2023-0669  2023-02-09 publicly-available     weaponized       ...\n",
            " 8: CVE-2022-24990 2023-02-09 privately-available    weaponized       ...\n",
            " 9: CVE-2022-48110 2023-02-09 publicly-available     poc              ...\n",
            "    <string>       <string>   <string>               <string>         ...\n",
            "\n",
            "Not Showing: exploit_type <string>, name <string>, refsource <string>, tags <string>,\n",
            "url <string>\n",
            "\n"
          ]
        }
      ]
    },
    {
      "cell_type": "markdown",
      "source": [
        "# More ... and Help"
      ],
      "metadata": {
        "id": "kE40IkXiBMVo"
      }
    },
    {
      "cell_type": "code",
      "source": [
        "%help"
      ],
      "metadata": {
        "colab": {
          "base_uri": "https://localhost:8080/"
        },
        "id": "DMucr82cBItc",
        "outputId": "87d4fb3c-5349-49b5-c8a4-9cb4b79c188b"
      },
      "execution_count": null,
      "outputs": [
        {
          "output_type": "stream",
          "name": "stdout",
          "text": [
            "GoNB is a Go kernel that compiles and executed on-the-fly Go code. \n",
            "\n",
            "When executing a cell, *GoNB* will save the cell contents (except non-Go commands see\n",
            "below) into a \"main.go\" file, compile and execute it.\n",
            "\n",
            "It also saves any global declarations (imports, functions, types, variables, constants)\n",
            "and reuse them at the next cell execution -- so you can define a function in one\n",
            "cell, and reuse in the next one. Just the \"func main()\" is not reused.\n",
            "\n",
            "A \"hello world\" example would look like:\n",
            "\n",
            "\tfunc main() {\n",
            "\t\tfmt.Printf(\"Hello world!\\n\");\n",
            "\t}\n",
            "\n",
            "But to avoid having to type \"func main()\" all the time, you can use \"%%\" and everything\n",
            "after is wrapped inside a \"func main() { ... }\". So our revised \"hello world\" looks like:\n",
            "\n",
            "\t%%\n",
            "\tfmt.Printf(\"Hello world!\\n\")\n",
            "\n",
            "\n",
            "- \"init()\" functions: since there is always only one definition per function name, \n",
            "  it's not possible for each cell to have it's own init() function. Instead GoNB\n",
            "  converts any function named \"init_<my_stuff>()\" to \"init()\" before compiling and\n",
            "  executing. This way each cell can create its own \"init_...()\" and have it called\n",
            "  at every cell execution.\n",
            "\n",
            "Special non-Go commands: \n",
            "\n",
            "- \"%main\" or \"%%\": Marks the lines as follows to be wrapped in a \"func main() {...}\" during \n",
            "  execution. A shortcut to quickly execute code. It also automatically includes \"flag.Parse()\"\n",
            "  as the very first statement.\n",
            "- \"%args\": Sets arguments to be passed when executing the Go code. This allows one to\n",
            "  use flags as a normal program.\n",
            "- \"%autoget\" and \"%noautoget\": Default is \"%autoget\", which automatically does \"go get\" for\n",
            "  packages not yet available.\n",
            "- \"%reset\": clears all memorized declarations (imports, functions, variables, types and \n",
            "  constants).\n",
            "- \"%with_inputs\": will prompt for inputs for the next shell command. Use this if\n",
            "  the next shell command (\"!\") you execute reads the stdin. Jupyter will require\n",
            "  you to enter one last value after the shell script executes.\n",
            "- \"%with_password\": will prompt for a password passed to the next shell command.\n",
            "  Do this is if your next shell command requires a password.\n",
            "\n",
            "Executing shell commands:\n",
            "\n",
            "- \"!<shell_cmd>\": executes the given command on a new shell. It makes it easy to run\n",
            "  commands on the kernels box, for instance to install requirements, or quickly\n",
            "  check contents of directories or files. Lines ending in \"\\\" are continued on\n",
            "  the next line -- so multi-line commands can be entered. But each command is\n",
            "  executed in its own shell, that is, variables and state is not carried over.\n",
            "- \"!*<shell_cmd>\": same as \"!<shell_cmd>\" except it first changes directory to\n",
            "  the temporary directory used to compile the go code -- the latest execution\n",
            "  is always saved in the file \"main.go\". It's also where the \"go.mod\" file for\n",
            "  the notebook is created and maintained. Useful for manipulating \"go.mod\",\n",
            "  for instance to get a package from some specific version, something \n",
            "  like \"!*go get github.com/my/package@v3\".\n"
          ]
        }
      ]
    }
  ]
}