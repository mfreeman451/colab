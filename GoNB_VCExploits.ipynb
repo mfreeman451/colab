{
  "nbformat": 4,
  "nbformat_minor": 0,
  "metadata": {
    "colab": {
      "provenance": [],
      "include_colab_link": true
    },
    "kernelspec": {
      "name": "python3",
      "display_name": "Python 3"
    },
    "language_info": {
      "name": "python"
    }
  },
  "cells": [
    {
      "cell_type": "markdown",
      "metadata": {
        "id": "view-in-github",
        "colab_type": "text"
      },
      "source": [
        "<a href=\"https://colab.research.google.com/github/mfreeman451/colab/blob/main/GoNB_VCExploits.ipynb\" target=\"_parent\"><img src=\"https://colab.research.google.com/assets/colab-badge.svg\" alt=\"Open In Colab\"/></a>"
      ]
    },
    {
      "cell_type": "markdown",
      "source": [
        "# GoNB - A Go Notebook Kernel for Jupyter\n",
        "\n",
        "See the [tutorial in github](https://github.com/janpfeifer/gonb/blob/e15ac2e8e3fe/examples/tutorial.ipynb). The repository is in [github.com/janpfeifer/gonb](https://github.com/janpfeifer/gonb).\n",
        "\n",
        "\n",
        "\n",
        "## Installation in Google's Colab\n",
        "\n",
        "Run the following cell once only. It will install Go, GoNB and restart the kernel so it uses Go instead of the provided Python.\n",
        "\n",
        "It takes a couple of minutes ... but only needs to be done once.\n",
        "\n",
        "When creating other GoNB notebooks with Google's Colab, you will have to copy the cell below (or do something similar).\n",
        "\n",
        "**Disclaimer**: this is highly not documented or official, but seems to be supported by Colab (it works). Likely this way of replacing the kernel will break without notice. Please reach out to project in [github.com/janpfeifer/gonb](https://github.com/janpfeifer/gonb) if there are any issues.\n"
      ],
      "metadata": {
        "id": "FWzjioUI63tT"
      }
    },
    {
      "cell_type": "code",
      "execution_count": null,
      "metadata": {
        "id": "3PaXSu67xkrg",
        "cellView": "form",
        "outputId": "46a1db91-3cd2-4a07-b296-25bad208b3a7",
        "colab": {
          "base_uri": "https://localhost:8080/"
        }
      },
      "outputs": [
        {
          "output_type": "stream",
          "name": "stdout",
          "text": [
            "env: GOROOT=/content/go\n",
            "go version go1.20 linux/amd64\n",
            "\u001b[7;39;32m[6e512262]\u001b[0m 2023/02/11 17:45:43 Go (gonb) kernel configuration installed in \"/root/.local/share/jupyter/kernels/gonb/kernel.json\".\n"
          ]
        }
      ],
      "source": [
        "#@title Install Go, `goimports` and Gote code.\n",
        "\n",
        "# Install Go and goimports.\n",
        "!mkdir -p cache\n",
        "!wget -q -O cache/go.tar.gz 'https://go.dev/dl/go1.20.linux-amd64.tar.gz'\n",
        "!tar xzf cache/go.tar.gz\n",
        "%env GOROOT=/content/go\n",
        "!ln -sf \"/content/go/bin/go\" /usr/bin/go\n",
        "!go version\n",
        "!go install golang.org/x/tools/cmd/goimports@latest 2> /dev/null\n",
        "!ln -sf /root/go/bin/goimports /usr/bin/goimports\n",
        "\n",
        "# Install GoNB.\n",
        "!git clone -q https://github.com/janpfeifer/gonb.git\n",
        "!cd gonb ; go build --buildvcs=false -o gonb . >& /dev/null || echo \"Failed to build gonb\" \n",
        "!cd gonb ; ./gonb --install\n",
        "\n",
        "# Python code to replace ipython kernel with GoNB.\n",
        "import os\n",
        "import ipykernel_launcher\n",
        "\n",
        "call_kernel_code='''\n",
        "import os\n",
        "import sys\n",
        "\n",
        "connection_file = sys.argv[2]\n",
        "os\n",
        "try:\n",
        "  os.execl(\"/content/gonb/gonb\", \"/content/gonb/gonb\", \"--kernel\", connection_file)\n",
        "finally:\n",
        "  from ipykernel import kernelapp as app\n",
        "  app.launch_new_instance()\n",
        "'''\n",
        "new_file = '/tmp/gonb_ipykernel_launcher.py'\n",
        "# old_file = '/usr/local/lib/python3.8/dist-packages/ipykernel_launcher.py'\n",
        "old_file = ipykernel_launcher.__file__\n",
        "with open(new_file, 'w') as f:\n",
        "  f.write(call_kernel_code)\n",
        "os.replace(new_file, old_file)\n",
        "\n",
        "# Finally kill current kernel to force restart.\n",
        "import os; import sys; sys.stdout.flush(); os.kill(os.getpid(), 9)\n"
      ]
    },
    {
      "cell_type": "markdown",
      "source": [
        "The cell above will crash the current kernel after replacing it with GoNB. It's normal. Run it once only, it takes a couple of minutes. After that you will be running a GoNB kernel."
      ],
      "metadata": {
        "id": "lbPHZ_rjOavo"
      }
    },
    {
      "cell_type": "markdown",
      "source": [
        "## Demo\n",
        "\n",
        "From here below you can delete and put your own code.\n",
        "\n",
        "\n",
        "First ..."
      ],
      "metadata": {
        "id": "izIU9VTs-Fc4"
      }
    },
    {
      "cell_type": "code",
      "source": [
        "%%\n",
        "fmt.Printf(\"Hello World!\")"
      ],
      "metadata": {
        "colab": {
          "base_uri": "https://localhost:8080/"
        },
        "id": "XH7zQH3D7TmR",
        "outputId": "2179d705-15b2-4660-9890-4b7f56af89ea"
      },
      "execution_count": 1,
      "outputs": [
        {
          "output_type": "stream",
          "name": "stdout",
          "text": [
            "Hello World!"
          ]
        }
      ]
    },
    {
      "cell_type": "code",
      "source": [
        "import \"bytes\"\n",
        "import svgo \"github.com/ajstarks/svgo\"\n",
        "import \"github.com/janpfeifer/gonb/gonbui\"\n",
        "\n",
        "func Shining(width, height int) string {\n",
        "    buf := bytes.NewBuffer(nil)\n",
        "    canvas := svgo.New(buf)\n",
        "    xp := []int{50, 70, 70, 50, 30, 30}\n",
        "    yp := []int{40, 50, 75, 85, 75, 50}\n",
        "    xl := []int{0, 0, 50, 100, 100}\n",
        "    yl := []int{100, 40, 10, 40, 100}\n",
        "    bgcolor := \"rgb(227,78,25)\"\n",
        "    bkcolor := \"rgb(153,29,40)\"\n",
        "    stcolor := \"rgb(65,52,44)\"\n",
        "    stwidth := 12\n",
        "    stylefmt := \"stroke:%s;stroke-width:%d;fill:%s\"\n",
        "    canvas.Start(width, height)\n",
        "    canvas.Def()\n",
        "    canvas.Gid(\"unit\")\n",
        "    canvas.Polyline(xl, yl, \"fill:none\")\n",
        "    canvas.Polygon(xp, yp)\n",
        "    canvas.Gend()\n",
        "    canvas.Gid(\"runit\")\n",
        "    canvas.TranslateRotate(150, 180, 180)\n",
        "    canvas.Use(0, 0, \"#unit\")\n",
        "    canvas.Gend()\n",
        "    canvas.Gend()\n",
        "    canvas.DefEnd()\n",
        "    canvas.Rect(0, 0, width, height, \"fill:\"+bgcolor)\n",
        "    canvas.Gstyle(fmt.Sprintf(stylefmt, stcolor, stwidth, bkcolor))\n",
        "    for y := 0; y < height; y += 130 {\n",
        "        for x := -50; x < width; x += 100 {\n",
        "            canvas.Use(x, y, \"#unit\")\n",
        "            canvas.Use(x, y, \"#runit\")\n",
        "        }\n",
        "    } \n",
        "    canvas.Gend()\n",
        "    canvas.End()\n",
        "    return buf.String()\n",
        "}\n",
        "\n",
        "%%\n",
        "gonbui.DisplaySVG(Shining(500, 500))"
      ],
      "metadata": {
        "colab": {
          "base_uri": "https://localhost:8080/",
          "height": 521
        },
        "id": "nqvhyQ-F_0kA",
        "outputId": "d83660af-a154-4add-8f9a-76165db474ef"
      },
      "execution_count": 2,
      "outputs": [
        {
          "output_type": "display_data",
          "data": {
            "text/html": [
              "<div><?xml version=\"1.0\"?>\n",
              "<!-- Generated by SVGo -->\n",
              "<svg width=\"500\" height=\"500\"\n",
              "     xmlns=\"http://www.w3.org/2000/svg\"\n",
              "     xmlns:xlink=\"http://www.w3.org/1999/xlink\">\n",
              "<defs>\n",
              "<g id=\"unit\">\n",
              "<polyline points=\"0,100 0,40 50,10 100,40 100,100\" style=\"fill:none\" />\n",
              "<polygon points=\"50,40 70,50 70,75 50,85 30,75 30,50\" />\n",
              "</g>\n",
              "<g id=\"runit\">\n",
              "<g transform=\"translate(150,180) rotate(180)\">\n",
              "<use x=\"0\" y=\"0\" xlink:href=\"#unit\" />\n",
              "</g>\n",
              "</g>\n",
              "</defs>\n",
              "<rect x=\"0\" y=\"0\" width=\"500\" height=\"500\" style=\"fill:rgb(227,78,25)\" />\n",
              "<g style=\"stroke:rgb(65,52,44);stroke-width:12;fill:rgb(153,29,40)\">\n",
              "<use x=\"-50\" y=\"0\" xlink:href=\"#unit\" />\n",
              "<use x=\"-50\" y=\"0\" xlink:href=\"#runit\" />\n",
              "<use x=\"50\" y=\"0\" xlink:href=\"#unit\" />\n",
              "<use x=\"50\" y=\"0\" xlink:href=\"#runit\" />\n",
              "<use x=\"150\" y=\"0\" xlink:href=\"#unit\" />\n",
              "<use x=\"150\" y=\"0\" xlink:href=\"#runit\" />\n",
              "<use x=\"250\" y=\"0\" xlink:href=\"#unit\" />\n",
              "<use x=\"250\" y=\"0\" xlink:href=\"#runit\" />\n",
              "<use x=\"350\" y=\"0\" xlink:href=\"#unit\" />\n",
              "<use x=\"350\" y=\"0\" xlink:href=\"#runit\" />\n",
              "<use x=\"450\" y=\"0\" xlink:href=\"#unit\" />\n",
              "<use x=\"450\" y=\"0\" xlink:href=\"#runit\" />\n",
              "<use x=\"-50\" y=\"130\" xlink:href=\"#unit\" />\n",
              "<use x=\"-50\" y=\"130\" xlink:href=\"#runit\" />\n",
              "<use x=\"50\" y=\"130\" xlink:href=\"#unit\" />\n",
              "<use x=\"50\" y=\"130\" xlink:href=\"#runit\" />\n",
              "<use x=\"150\" y=\"130\" xlink:href=\"#unit\" />\n",
              "<use x=\"150\" y=\"130\" xlink:href=\"#runit\" />\n",
              "<use x=\"250\" y=\"130\" xlink:href=\"#unit\" />\n",
              "<use x=\"250\" y=\"130\" xlink:href=\"#runit\" />\n",
              "<use x=\"350\" y=\"130\" xlink:href=\"#unit\" />\n",
              "<use x=\"350\" y=\"130\" xlink:href=\"#runit\" />\n",
              "<use x=\"450\" y=\"130\" xlink:href=\"#unit\" />\n",
              "<use x=\"450\" y=\"130\" xlink:href=\"#runit\" />\n",
              "<use x=\"-50\" y=\"260\" xlink:href=\"#unit\" />\n",
              "<use x=\"-50\" y=\"260\" xlink:href=\"#runit\" />\n",
              "<use x=\"50\" y=\"260\" xlink:href=\"#unit\" />\n",
              "<use x=\"50\" y=\"260\" xlink:href=\"#runit\" />\n",
              "<use x=\"150\" y=\"260\" xlink:href=\"#unit\" />\n",
              "<use x=\"150\" y=\"260\" xlink:href=\"#runit\" />\n",
              "<use x=\"250\" y=\"260\" xlink:href=\"#unit\" />\n",
              "<use x=\"250\" y=\"260\" xlink:href=\"#runit\" />\n",
              "<use x=\"350\" y=\"260\" xlink:href=\"#unit\" />\n",
              "<use x=\"350\" y=\"260\" xlink:href=\"#runit\" />\n",
              "<use x=\"450\" y=\"260\" xlink:href=\"#unit\" />\n",
              "<use x=\"450\" y=\"260\" xlink:href=\"#runit\" />\n",
              "<use x=\"-50\" y=\"390\" xlink:href=\"#unit\" />\n",
              "<use x=\"-50\" y=\"390\" xlink:href=\"#runit\" />\n",
              "<use x=\"50\" y=\"390\" xlink:href=\"#unit\" />\n",
              "<use x=\"50\" y=\"390\" xlink:href=\"#runit\" />\n",
              "<use x=\"150\" y=\"390\" xlink:href=\"#unit\" />\n",
              "<use x=\"150\" y=\"390\" xlink:href=\"#runit\" />\n",
              "<use x=\"250\" y=\"390\" xlink:href=\"#unit\" />\n",
              "<use x=\"250\" y=\"390\" xlink:href=\"#runit\" />\n",
              "<use x=\"350\" y=\"390\" xlink:href=\"#unit\" />\n",
              "<use x=\"350\" y=\"390\" xlink:href=\"#runit\" />\n",
              "<use x=\"450\" y=\"390\" xlink:href=\"#unit\" />\n",
              "<use x=\"450\" y=\"390\" xlink:href=\"#runit\" />\n",
              "</g>\n",
              "</svg>\n",
              "</div>"
            ]
          },
          "metadata": {}
        }
      ]
    },
    {
      "cell_type": "code",
      "source": [
        "import \"github.com/benc-uk/gofract/pkg/fractals\"\n",
        "import \"github.com/benc-uk/gofract/pkg/colors\"\n",
        "\n",
        "%%\n",
        "imgWidth := 320\n",
        "\n",
        "// Default fractal\n",
        "f := fractals.Fractal{\n",
        "    FractType:    \"mandelbrot\",\n",
        "    Center:       fractals.ComplexPair{-0.6, 0.0},\n",
        "    MagFactor:    1.0,\n",
        "    MaxIter:      90,\n",
        "    W:            3.0,\n",
        "    H:            2.0,\n",
        "    ImgWidth:     imgWidth,\n",
        "    JuliaSeed:    fractals.ComplexPair{0.355, 0.355},\n",
        "    InnerColor:   \"#000000\",\n",
        "    FullScreen:   false,\n",
        "    ColorRepeats: 2,\n",
        "}\n",
        "gradient := colors.GradientTable{}\n",
        "gradient.AddToTable(\"#000762\", 0.0)\n",
        "gradient.AddToTable(\"#0B48C3\", 0.2)\n",
        "gradient.AddToTable(\"#ffffff\", 0.4)\n",
        "gradient.AddToTable(\"#E3A000\", 0.5)\n",
        "gradient.AddToTable(\"#000762\", 0.9)\n",
        "imgHeight := int(float64(imgWidth) * float64(f.H/f.W))\n",
        "img := image.NewRGBA(image.Rect(0, 0, f.ImgWidth, imgHeight))\n",
        "lastRenderTime := f.Render(img, gradient)\n",
        "fmt.Printf(\"lastRenderTime=%v\\n\", lastRenderTime)\n",
        "gonbui.DisplayImage(img)"
      ],
      "metadata": {
        "colab": {
          "base_uri": "https://localhost:8080/",
          "height": 248
        },
        "id": "d2Ne-RIYAk6z",
        "outputId": "3df82ffa-ed22-40ef-c528-25522c5fb163"
      },
      "execution_count": null,
      "outputs": [
        {
          "output_type": "stream",
          "name": "stdout",
          "text": [
            "lastRenderTime=14.411098\n"
          ]
        },
        {
          "output_type": "display_data",
          "data": {
            "image/png": "[encoded data removed]"
          },
          "metadata": {}
        }
      ]
    },
    {
      "cell_type": "code",
      "source": [
        "!*go get -u github.com/erkkah/margaid@d60b2efd2f5acc5d8fbbe13eaf85f1532e11a2fb"
      ],
      "metadata": {
        "colab": {
          "base_uri": "https://localhost:8080/"
        },
        "id": "X1K-fZhMAu1m",
        "outputId": "c8ad0778-a2b1-43d1-b555-f1c4a5e76ca9"
      },
      "execution_count": null,
      "outputs": [
        {
          "output_type": "stream",
          "name": "stderr",
          "text": [
            "go: downloading github.com/erkkah/margaid v0.1.1-0.20230128143048-d60b2efd2f5a\n",
            "go: added github.com/erkkah/margaid v0.1.1-0.20230128143048-d60b2efd2f5a\n"
          ]
        }
      ]
    },
    {
      "cell_type": "code",
      "source": [
        "import \"bytes\"\n",
        "import \"github.com/janpfeifer/gonb/gonbui\"\n",
        "import mg \"github.com/erkkah/margaid\"\n",
        "\n",
        "func mgPlot(width, height int) string {\n",
        "    randomSeries := mg.NewSeries()\n",
        "    rand.Seed(time.Now().Unix())\n",
        "    for i := float64(0); i < 10; i++ {\n",
        "        randomSeries.Add(mg.MakeValue(i+1, 200*rand.Float64()))\n",
        "    }\n",
        "\n",
        "    testSeries := mg.NewSeries()\n",
        "    multiplier := 2.1\n",
        "    v := 0.33\n",
        "    for i := float64(0); i < 10; i++ {\n",
        "        v *= multiplier\n",
        "        testSeries.Add(mg.MakeValue(i+1, v))\n",
        "    }\n",
        "\n",
        "    diagram := mg.New(width, height,\n",
        "        mg.WithAutorange(mg.XAxis, testSeries),\n",
        "        mg.WithAutorange(mg.YAxis, testSeries),\n",
        "        mg.WithAutorange(mg.Y2Axis, testSeries),\n",
        "        mg.WithProjection(mg.YAxis, mg.Log),\n",
        "        mg.WithInset(70),\n",
        "        mg.WithPadding(2),\n",
        "        mg.WithColorScheme(90),\n",
        "        mg.WithBackgroundColor(\"#f8f8f8\"),\n",
        "    )\n",
        "\n",
        "    diagram.Line(testSeries, mg.UsingAxes(mg.XAxis, mg.YAxis), mg.UsingMarker(\"square\"), mg.UsingStrokeWidth(1))\n",
        "    diagram.Smooth(testSeries, mg.UsingAxes(mg.XAxis, mg.Y2Axis), mg.UsingStrokeWidth(3.14))\n",
        "    diagram.Smooth(randomSeries, mg.UsingAxes(mg.XAxis, mg.YAxis), mg.UsingMarker(\"filled-circle\"))\n",
        "    diagram.Axis(testSeries, mg.XAxis, diagram.ValueTicker('f', 0, 10), false, \"X\")\n",
        "    diagram.Axis(testSeries, mg.YAxis, diagram.ValueTicker('f', 1, 2), true, \"Y\")\n",
        "\n",
        "    diagram.Frame()\n",
        "    diagram.Title(\"A diagram of sorts 📊 📈\")\n",
        "    buf := bytes.NewBuffer(nil)\n",
        "    diagram.Render(buf)\n",
        "    return buf.String()\n",
        "}\n",
        "\n",
        "%%\n",
        "gonbui.DisplaySVG(mgPlot(640, 480))"
      ],
      "metadata": {
        "colab": {
          "base_uri": "https://localhost:8080/",
          "height": 501
        },
        "id": "Gc9kRoENA8yv",
        "outputId": "a597527c-a969-40fc-c02e-30f0511b854b"
      },
      "execution_count": null,
      "outputs": [
        {
          "output_type": "display_data",
          "data": {
            "text/html": [
              "<div><svg preserveAspectRatio=\"xMidYMid meet\" xmlns=\"http://www.w3.org/2000/svg\" width=\"640\" height=\"480\" viewbox=\"0 0 640 480\" style=\"background-color:#f8f8f8\"><defs><marker markerWidth=\"2%\" markerHeight=\"2%\" id=\"circle\" viewBox=\"0 0 10 10 \" refX=\"5\" refY=\"5\" markerUnits=\"userSpaceOnUse\"><circle cx=\"5\" cy=\"5\" r=\"3\" fill=\"none\" stroke=\"black\"/></marker><marker markerHeight=\"2%\" id=\"filled-circle\" viewBox=\"0 0 10 10 \" refX=\"5\" refY=\"5\" markerUnits=\"userSpaceOnUse\" markerWidth=\"2%\"><circle cx=\"5\" cy=\"5\" r=\"3\" fill=\"black\" stroke=\"none\"/></marker><marker refX=\"5\" refY=\"5\" markerUnits=\"userSpaceOnUse\" markerWidth=\"2%\" markerHeight=\"2%\" id=\"square\" viewBox=\"0 0 10 10 \"><rect stroke=\"black\" x=\"2\" y=\"2\" width=\"6\" height=\"6\" fill=\"none\"/></marker><marker id=\"filled-square\" viewBox=\"0 0 10 10 \" refX=\"5\" refY=\"5\" markerUnits=\"userSpaceOnUse\" markerWidth=\"2%\" markerHeight=\"2%\"><rect width=\"6\" height=\"6\" fill=\"black\" stroke=\"none\" x=\"2\" y=\"2\"/></marker></defs><g marker-mid=\"url(#square)\" marker-end=\"url(#square)\" stroke-width=\"1px\" stroke-linecap=\"round\" transform=\"translate(70 410 )scale(1 -1 )\" stroke=\"hsl(90, 47%, 65%)\" stroke-linejoin=\"round\" marker-start=\"url(#square)\" fill=\"none\"><path vector-effect=\"non-scaling-stroke\" d=\"M10,6.800000e+00 L6.333333e+01,4.306667e+01 L1.166667e+02,7.933333e+01 L170,1.156000e+02 L2.233333e+02,1.518667e+02 L2.766667e+02,1.881333e+02 L330,2.244000e+02 L3.833333e+02,2.606667e+02 L4.366667e+02,2.969333e+02 L490,3.332000e+02 \"/></g><g fill=\"none\" stroke-linecap=\"round\" stroke=\"hsl(301, 88%, 65%)\" stroke-width=\"3.14px\" stroke-linejoin=\"round\" transform=\"translate(70 410 )scale(1 -1 )\"><path vector-effect=\"non-scaling-stroke\" d=\"M1.000000e+01,6.800000e+00 C1.888889e+01,6.875434e+00 4.555556e+01,7.018758e+00 6.333333e+01,7.252602e+00 C8.111111e+01,7.486446e+00 9.888889e+01,7.711993e+00 1.166667e+02,8.203066e+00 C1.344444e+02,8.694139e+00 1.522222e+02,9.167786e+00 1.700000e+02,1.019904e+01 C1.877778e+02,1.123029e+01 2.055556e+02,1.222495e+01 2.233333e+02,1.439059e+01 C2.411111e+02,1.655622e+01 2.588889e+02,1.864500e+01 2.766667e+02,2.319283e+01 C2.944444e+02,2.774066e+01 3.122222e+02,3.212711e+01 3.300000e+02,4.167755e+01 C3.477778e+02,5.122798e+01 3.655556e+02,6.043953e+01 3.833333e+02,8.049545e+01 C4.011111e+02,1.005514e+02 4.188889e+02,1.198956e+02 4.366667e+02,1.620130e+02 C4.544444e+02,2.041305e+02 4.811111e+02,3.046688e+02 4.900000e+02,3.332000e+02 \"/></g><g marker-mid=\"url(#filled-circle)\" stroke=\"hsl(152, 76%, 65%)\" stroke-width=\"3px\" fill=\"none\" marker-start=\"url(#filled-circle)\" marker-end=\"url(#filled-circle)\" transform=\"translate(70 410 )scale(1 -1 )\" stroke-linejoin=\"round\" stroke-linecap=\"round\"><path vector-effect=\"non-scaling-stroke\" d=\"M1.000000e+01,2.690772e+02 C1.888889e+01,2.614207e+02 4.555556e+01,2.289386e+02 6.333333e+01,2.231379e+02 C8.111111e+01,2.173371e+02 9.888889e+01,2.353643e+02 1.166667e+02,2.342727e+02 C1.344444e+02,2.331810e+02 1.522222e+02,2.166794e+02 1.700000e+02,2.165880e+02 C1.877778e+02,2.164967e+02 2.055556e+02,2.263245e+02 2.233333e+02,2.337246e+02 C2.411111e+02,2.411247e+02 2.588889e+02,2.538052e+02 2.766667e+02,2.609888e+02 C2.944444e+02,2.681725e+02 3.122222e+02,2.741423e+02 3.300000e+02,2.768265e+02 C3.477778e+02,2.795106e+02 3.655556e+02,2.940916e+02 3.833333e+02,2.770938e+02 C4.011111e+02,2.600960e+02 4.188889e+02,1.804084e+02 4.366667e+02,1.748394e+02 C4.544444e+02,1.692704e+02 4.811111e+02,2.322064e+02 4.900000e+02,2.436798e+02 \"/></g><g transform=\"translate(70 410 )scale(1 -1 )\" stroke=\"black\" stroke-linecap=\"round\" fill=\"none\" stroke-width=\"2px\" stroke-linejoin=\"round\"><path d=\"M10,0 L10,-6 M6.333333e+01,0 L6.333333e+01,-6 M1.166667e+02,0 L1.166667e+02,-6 M170,0 L170,-6 M2.233333e+02,0 L2.233333e+02,-6 M2.766667e+02,0 L2.766667e+02,-6 M330,0 L330,-6 M3.833333e+02,0 L3.833333e+02,-6 M4.366667e+02,0 L4.366667e+02,-6 M490,0 L490,-6 \" vector-effect=\"non-scaling-stroke\"/></g><g font-weight=\"normal\" stroke-width=\"2px\" stroke-linejoin=\"round\" transform=\"translate(70 410 )scale(1 1 )\" fill=\"black\" stroke-linecap=\"round\" font-style=\"normal\" text-anchor=\"middle\" dominant-baseline=\"hanging\" font-family=\"sans-serif\" font-size=\"12px\" stroke=\"black\"><text stroke=\"none\" vector-effect=\"non-scaling-stroke\" x=\"10\" y=\"10\" dominant-baseline=\"hanging\">1</text><text stroke=\"none\" vector-effect=\"non-scaling-stroke\" x=\"6.333333e+01\" y=\"10\" dominant-baseline=\"hanging\">2</text><text stroke=\"none\" vector-effect=\"non-scaling-stroke\" x=\"1.166667e+02\" y=\"10\" dominant-baseline=\"hanging\">3</text><text dominant-baseline=\"hanging\" stroke=\"none\" vector-effect=\"non-scaling-stroke\" x=\"170\" y=\"10\">4</text><text x=\"2.233333e+02\" y=\"10\" dominant-baseline=\"hanging\" stroke=\"none\" vector-effect=\"non-scaling-stroke\">5</text><text dominant-baseline=\"hanging\" stroke=\"none\" vector-effect=\"non-scaling-stroke\" x=\"2.766667e+02\" y=\"10\">6</text><text y=\"10\" dominant-baseline=\"hanging\" stroke=\"none\" vector-effect=\"non-scaling-stroke\" x=\"330\">7</text><text stroke=\"none\" vector-effect=\"non-scaling-stroke\" x=\"3.833333e+02\" y=\"10\" dominant-baseline=\"hanging\">8</text><text vector-effect=\"non-scaling-stroke\" x=\"4.366667e+02\" y=\"10\" dominant-baseline=\"hanging\" stroke=\"none\">9</text><text y=\"10\" dominant-baseline=\"hanging\" stroke=\"none\" vector-effect=\"non-scaling-stroke\" x=\"490\">10</text></g><g stroke-width=\"2px\" font-size=\"12px\" font-weight=\"bold\" stroke-linecap=\"round\" stroke-linejoin=\"round\" dominant-baseline=\"baseline\" stroke=\"black\" font-family=\"sans-serif\" font-style=\"normal\" fill=\"black\" transform=\"translate(70 410 )scale(1 1 )rotate(0 0 0 )\" text-anchor=\"middle\"><text y=\"-6\" dominant-baseline=\"baseline\" stroke=\"none\" vector-effect=\"non-scaling-stroke\" x=\"250\">X</text></g><g stroke-width=\"2px\" stroke-linejoin=\"round\" transform=\"translate(70 410 )scale(1 -1 )\" dominant-baseline=\"baseline\" fill=\"black\" stroke-linecap=\"round\" font-family=\"sans-serif\" font-style=\"normal\" font-size=\"12px\" font-weight=\"bold\" stroke=\"black\" text-anchor=\"middle\"><path vector-effect=\"non-scaling-stroke\" d=\"M0,2.472591e+01 L-6,2.472591e+01 M0,5.860766e+01 L-6,5.860766e+01 M0,9.248942e+01 L-6,9.248942e+01 M0,1.263712e+02 L-6,1.263712e+02 M0,1.602529e+02 L-6,1.602529e+02 M0,1.941347e+02 L-6,1.941347e+02 M0,2.280164e+02 L-6,2.280164e+02 M0,2.618982e+02 L-6,2.618982e+02 M0,2.957799e+02 L-6,2.957799e+02 M0,3.296617e+02 L-6,3.296617e+02 \"/></g><g stroke-linejoin=\"round\" text-anchor=\"end\" font-style=\"normal\" fill=\"black\" stroke-linecap=\"round\" font-family=\"sans-serif\" font-size=\"12px\" stroke=\"black\" stroke-width=\"2px\" transform=\"translate(70 410 )scale(1 1 )\" dominant-baseline=\"middle\" font-weight=\"normal\"><text y=\"-2.472591e+01\" dominant-baseline=\"middle\" stroke=\"none\" vector-effect=\"non-scaling-stroke\" x=\"-10\">1.0</text><text vector-effect=\"non-scaling-stroke\" x=\"-10\" y=\"-5.860766e+01\" dominant-baseline=\"middle\" stroke=\"none\">2.0</text><text stroke=\"none\" vector-effect=\"non-scaling-stroke\" x=\"-10\" y=\"-9.248942e+01\" dominant-baseline=\"middle\">4.0</text><text dominant-baseline=\"middle\" stroke=\"none\" vector-effect=\"non-scaling-stroke\" x=\"-10\" y=\"-1.263712e+02\">8.0</text><text dominant-baseline=\"middle\" stroke=\"none\" vector-effect=\"non-scaling-stroke\" x=\"-10\" y=\"-1.602529e+02\">16.0</text><text stroke=\"none\" vector-effect=\"non-scaling-stroke\" x=\"-10\" y=\"-1.941347e+02\" dominant-baseline=\"middle\">32.0</text><text x=\"-10\" y=\"-2.280164e+02\" dominant-baseline=\"middle\" stroke=\"none\" vector-effect=\"non-scaling-stroke\">64.0</text><text vector-effect=\"non-scaling-stroke\" x=\"-10\" y=\"-2.618982e+02\" dominant-baseline=\"middle\" stroke=\"none\">128.0</text><text stroke=\"none\" vector-effect=\"non-scaling-stroke\" x=\"-10\" y=\"-2.957799e+02\" dominant-baseline=\"middle\">256.0</text><text stroke=\"none\" vector-effect=\"non-scaling-stroke\" x=\"-10\" y=\"-3.296617e+02\" dominant-baseline=\"middle\">512.0</text></g><g font-style=\"normal\" font-weight=\"bold\" fill=\"black\" stroke-width=\"2px\" stroke-linejoin=\"round\" text-anchor=\"middle\" stroke-linecap=\"round\" font-family=\"sans-serif\" font-size=\"12px\" transform=\"translate(70 410 )scale(1 1 )rotate(-90 0 0 )\" dominant-baseline=\"hanging\" stroke=\"black\"><text dominant-baseline=\"hanging\" stroke=\"none\" vector-effect=\"non-scaling-stroke\" x=\"170\" y=\"6\">Y</text></g><g stroke-width=\"0.5px\" transform=\"translate(70 410 )scale(1 -1 )\" fill=\"black\" stroke-linecap=\"round\" font-family=\"sans-serif\" font-size=\"12px\" font-style=\"normal\" dominant-baseline=\"hanging\" stroke=\"gray\" stroke-linejoin=\"round\" text-anchor=\"middle\" font-weight=\"bold\"><path vector-effect=\"non-scaling-stroke\" d=\"M0,2.472591e+01 L500,2.472591e+01 M0,5.860766e+01 L500,5.860766e+01 M0,9.248942e+01 L500,9.248942e+01 M0,1.263712e+02 L500,1.263712e+02 M0,1.602529e+02 L500,1.602529e+02 M0,1.941347e+02 L500,1.941347e+02 M0,2.280164e+02 L500,2.280164e+02 M0,2.618982e+02 L500,2.618982e+02 M0,2.957799e+02 L500,2.957799e+02 M0,3.296617e+02 L500,3.296617e+02 \"/></g><g fill=\"none\" font-family=\"sans-serif\" font-size=\"12px\" font-style=\"normal\" font-weight=\"bold\" stroke-width=\"2px\" stroke-linejoin=\"round\" dominant-baseline=\"hanging\" stroke-linecap=\"round\" stroke=\"black\" text-anchor=\"middle\"><rect height=\"340\" vector-effect=\"non-scaling-stroke\" x=\"70\" y=\"70\" width=\"500\"/><g fill=\"black\" font-size=\"18px\" dominant-baseline=\"middle\"><text stroke=\"none\" vector-effect=\"non-scaling-stroke\" x=\"320\" y=\"35\" dominant-baseline=\"middle\">A diagram of sorts 📊 📈</text></g></g></svg></div>"
            ]
          },
          "metadata": {}
        }
      ]
    },
    {
      "cell_type": "markdown",
      "source": [
        "# More ... and Help"
      ],
      "metadata": {
        "id": "kE40IkXiBMVo"
      }
    },
    {
      "cell_type": "code",
      "source": [
        "%help"
      ],
      "metadata": {
        "colab": {
          "base_uri": "https://localhost:8080/"
        },
        "id": "DMucr82cBItc",
        "outputId": "87d4fb3c-5349-49b5-c8a4-9cb4b79c188b"
      },
      "execution_count": null,
      "outputs": [
        {
          "output_type": "stream",
          "name": "stdout",
          "text": [
            "GoNB is a Go kernel that compiles and executed on-the-fly Go code. \n",
            "\n",
            "When executing a cell, *GoNB* will save the cell contents (except non-Go commands see\n",
            "below) into a \"main.go\" file, compile and execute it.\n",
            "\n",
            "It also saves any global declarations (imports, functions, types, variables, constants)\n",
            "and reuse them at the next cell execution -- so you can define a function in one\n",
            "cell, and reuse in the next one. Just the \"func main()\" is not reused.\n",
            "\n",
            "A \"hello world\" example would look like:\n",
            "\n",
            "\tfunc main() {\n",
            "\t\tfmt.Printf(\"Hello world!\\n\");\n",
            "\t}\n",
            "\n",
            "But to avoid having to type \"func main()\" all the time, you can use \"%%\" and everything\n",
            "after is wrapped inside a \"func main() { ... }\". So our revised \"hello world\" looks like:\n",
            "\n",
            "\t%%\n",
            "\tfmt.Printf(\"Hello world!\\n\")\n",
            "\n",
            "\n",
            "- \"init()\" functions: since there is always only one definition per function name, \n",
            "  it's not possible for each cell to have it's own init() function. Instead GoNB\n",
            "  converts any function named \"init_<my_stuff>()\" to \"init()\" before compiling and\n",
            "  executing. This way each cell can create its own \"init_...()\" and have it called\n",
            "  at every cell execution.\n",
            "\n",
            "Special non-Go commands: \n",
            "\n",
            "- \"%main\" or \"%%\": Marks the lines as follows to be wrapped in a \"func main() {...}\" during \n",
            "  execution. A shortcut to quickly execute code. It also automatically includes \"flag.Parse()\"\n",
            "  as the very first statement.\n",
            "- \"%args\": Sets arguments to be passed when executing the Go code. This allows one to\n",
            "  use flags as a normal program.\n",
            "- \"%autoget\" and \"%noautoget\": Default is \"%autoget\", which automatically does \"go get\" for\n",
            "  packages not yet available.\n",
            "- \"%reset\": clears all memorized declarations (imports, functions, variables, types and \n",
            "  constants).\n",
            "- \"%with_inputs\": will prompt for inputs for the next shell command. Use this if\n",
            "  the next shell command (\"!\") you execute reads the stdin. Jupyter will require\n",
            "  you to enter one last value after the shell script executes.\n",
            "- \"%with_password\": will prompt for a password passed to the next shell command.\n",
            "  Do this is if your next shell command requires a password.\n",
            "\n",
            "Executing shell commands:\n",
            "\n",
            "- \"!<shell_cmd>\": executes the given command on a new shell. It makes it easy to run\n",
            "  commands on the kernels box, for instance to install requirements, or quickly\n",
            "  check contents of directories or files. Lines ending in \"\\\" are continued on\n",
            "  the next line -- so multi-line commands can be entered. But each command is\n",
            "  executed in its own shell, that is, variables and state is not carried over.\n",
            "- \"!*<shell_cmd>\": same as \"!<shell_cmd>\" except it first changes directory to\n",
            "  the temporary directory used to compile the go code -- the latest execution\n",
            "  is always saved in the file \"main.go\". It's also where the \"go.mod\" file for\n",
            "  the notebook is created and maintained. Useful for manipulating \"go.mod\",\n",
            "  for instance to get a package from some specific version, something \n",
            "  like \"!*go get github.com/my/package@v3\".\n"
          ]
        }
      ]
    },
    {
      "cell_type": "code",
      "source": [
        "\n",
        "import (\n",
        "\t\"bytes\"\n",
        "\t\"fmt\"\n",
        "\t\"github.com/janpfeifer/gonb/gonbui\"\n",
        ")\n",
        "import svgo \"github.com/ajstarks/svgo\"\n",
        "\n",
        "func Shining(width, height int) string {\n",
        "\tbuf := bytes.NewBuffer(nil)\n",
        "\tcanvas := svgo.New(buf)\n",
        "\txp := []int{50, 70, 70, 50, 30, 30}\n",
        "\typ := []int{40, 50, 75, 85, 75, 50}\n",
        "\txl := []int{0, 0, 50, 100, 100}\n",
        "\tyl := []int{100, 40, 10, 40, 100}\n",
        "\tbgcolor := \"rgb(227,78,25)\"\n",
        "\tbkcolor := \"rgb(153,29,40)\"\n",
        "\tstcolor := \"rgb(65,52,44)\"\n",
        "\tstwidth := 12\n",
        "\tstylefmt := \"stroke:%s;stroke-width:%d;fill:%s\"\n",
        "\tcanvas.Start(width, height)\n",
        "\tcanvas.Def()\n",
        "\tcanvas.Gid(\"unit\")\n",
        "\tcanvas.Polyline(xl, yl, \"fill:none\")\n",
        "\tcanvas.Polygon(xp, yp)\n",
        "\tcanvas.Gend()\n",
        "\tcanvas.Gid(\"runit\")\n",
        "\tcanvas.TranslateRotate(150, 180, 180)\n",
        "\tcanvas.Use(0, 0, \"#unit\")\n",
        "\tcanvas.Gend()\n",
        "\tcanvas.Gend()\n",
        "\tcanvas.DefEnd()\n",
        "\tcanvas.Rect(0, 0, width, height, \"fill:\"+bgcolor)\n",
        "\tcanvas.Gstyle(fmt.Sprintf(stylefmt, stcolor, stwidth, bkcolor))\n",
        "\tfor y := 0; y < height; y += 130 {\n",
        "\t\tfor x := -50; x < width; x += 100 {\n",
        "\t\t\tcanvas.Use(x, y, \"#unit\")\n",
        "\t\t\tcanvas.Use(x, y, \"#runit\")\n",
        "\t\t}\n",
        "\t}\n",
        "\tcanvas.Gend()\n",
        "\tcanvas.End()\n",
        "\treturn buf.String()\n",
        "}\n",
        "\n",
        "func main() {\n",
        "\t// display the SVG generated by Shining()\n",
        "\tgonbui.DisplaySVG(Shining(500, 500))\n",
        "}\n"
      ],
      "metadata": {
        "id": "h9yVeLxprZ_C",
        "outputId": "2c71b87c-a316-492c-c581-f79689be0e83",
        "colab": {
          "base_uri": "https://localhost:8080/",
          "height": 521
        }
      },
      "execution_count": 15,
      "outputs": [
        {
          "output_type": "display_data",
          "data": {
            "text/html": [
              "<div><?xml version=\"1.0\"?>\n",
              "<!-- Generated by SVGo -->\n",
              "<svg width=\"500\" height=\"500\"\n",
              "     xmlns=\"http://www.w3.org/2000/svg\"\n",
              "     xmlns:xlink=\"http://www.w3.org/1999/xlink\">\n",
              "<defs>\n",
              "<g id=\"unit\">\n",
              "<polyline points=\"0,100 0,40 50,10 100,40 100,100\" style=\"fill:none\" />\n",
              "<polygon points=\"50,40 70,50 70,75 50,85 30,75 30,50\" />\n",
              "</g>\n",
              "<g id=\"runit\">\n",
              "<g transform=\"translate(150,180) rotate(180)\">\n",
              "<use x=\"0\" y=\"0\" xlink:href=\"#unit\" />\n",
              "</g>\n",
              "</g>\n",
              "</defs>\n",
              "<rect x=\"0\" y=\"0\" width=\"500\" height=\"500\" style=\"fill:rgb(227,78,25)\" />\n",
              "<g style=\"stroke:rgb(65,52,44);stroke-width:12;fill:rgb(153,29,40)\">\n",
              "<use x=\"-50\" y=\"0\" xlink:href=\"#unit\" />\n",
              "<use x=\"-50\" y=\"0\" xlink:href=\"#runit\" />\n",
              "<use x=\"50\" y=\"0\" xlink:href=\"#unit\" />\n",
              "<use x=\"50\" y=\"0\" xlink:href=\"#runit\" />\n",
              "<use x=\"150\" y=\"0\" xlink:href=\"#unit\" />\n",
              "<use x=\"150\" y=\"0\" xlink:href=\"#runit\" />\n",
              "<use x=\"250\" y=\"0\" xlink:href=\"#unit\" />\n",
              "<use x=\"250\" y=\"0\" xlink:href=\"#runit\" />\n",
              "<use x=\"350\" y=\"0\" xlink:href=\"#unit\" />\n",
              "<use x=\"350\" y=\"0\" xlink:href=\"#runit\" />\n",
              "<use x=\"450\" y=\"0\" xlink:href=\"#unit\" />\n",
              "<use x=\"450\" y=\"0\" xlink:href=\"#runit\" />\n",
              "<use x=\"-50\" y=\"130\" xlink:href=\"#unit\" />\n",
              "<use x=\"-50\" y=\"130\" xlink:href=\"#runit\" />\n",
              "<use x=\"50\" y=\"130\" xlink:href=\"#unit\" />\n",
              "<use x=\"50\" y=\"130\" xlink:href=\"#runit\" />\n",
              "<use x=\"150\" y=\"130\" xlink:href=\"#unit\" />\n",
              "<use x=\"150\" y=\"130\" xlink:href=\"#runit\" />\n",
              "<use x=\"250\" y=\"130\" xlink:href=\"#unit\" />\n",
              "<use x=\"250\" y=\"130\" xlink:href=\"#runit\" />\n",
              "<use x=\"350\" y=\"130\" xlink:href=\"#unit\" />\n",
              "<use x=\"350\" y=\"130\" xlink:href=\"#runit\" />\n",
              "<use x=\"450\" y=\"130\" xlink:href=\"#unit\" />\n",
              "<use x=\"450\" y=\"130\" xlink:href=\"#runit\" />\n",
              "<use x=\"-50\" y=\"260\" xlink:href=\"#unit\" />\n",
              "<use x=\"-50\" y=\"260\" xlink:href=\"#runit\" />\n",
              "<use x=\"50\" y=\"260\" xlink:href=\"#unit\" />\n",
              "<use x=\"50\" y=\"260\" xlink:href=\"#runit\" />\n",
              "<use x=\"150\" y=\"260\" xlink:href=\"#unit\" />\n",
              "<use x=\"150\" y=\"260\" xlink:href=\"#runit\" />\n",
              "<use x=\"250\" y=\"260\" xlink:href=\"#unit\" />\n",
              "<use x=\"250\" y=\"260\" xlink:href=\"#runit\" />\n",
              "<use x=\"350\" y=\"260\" xlink:href=\"#unit\" />\n",
              "<use x=\"350\" y=\"260\" xlink:href=\"#runit\" />\n",
              "<use x=\"450\" y=\"260\" xlink:href=\"#unit\" />\n",
              "<use x=\"450\" y=\"260\" xlink:href=\"#runit\" />\n",
              "<use x=\"-50\" y=\"390\" xlink:href=\"#unit\" />\n",
              "<use x=\"-50\" y=\"390\" xlink:href=\"#runit\" />\n",
              "<use x=\"50\" y=\"390\" xlink:href=\"#unit\" />\n",
              "<use x=\"50\" y=\"390\" xlink:href=\"#runit\" />\n",
              "<use x=\"150\" y=\"390\" xlink:href=\"#unit\" />\n",
              "<use x=\"150\" y=\"390\" xlink:href=\"#runit\" />\n",
              "<use x=\"250\" y=\"390\" xlink:href=\"#unit\" />\n",
              "<use x=\"250\" y=\"390\" xlink:href=\"#runit\" />\n",
              "<use x=\"350\" y=\"390\" xlink:href=\"#unit\" />\n",
              "<use x=\"350\" y=\"390\" xlink:href=\"#runit\" />\n",
              "<use x=\"450\" y=\"390\" xlink:href=\"#unit\" />\n",
              "<use x=\"450\" y=\"390\" xlink:href=\"#runit\" />\n",
              "</g>\n",
              "</svg>\n",
              "</div>"
            ]
          },
          "metadata": {}
        }
      ]
    }
  ]
}